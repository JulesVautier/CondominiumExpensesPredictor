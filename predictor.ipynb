{
 "cells": [
  {
   "cell_type": "code",
   "execution_count": 8,
   "metadata": {
    "collapsed": true
   },
   "outputs": [],
   "source": [
    "from app import DataHelper\n",
    "\n",
    "dataHelper = DataHelper()"
   ]
  },
  {
   "cell_type": "code",
   "execution_count": 13,
   "metadata": {},
   "outputs": [
    {
     "name": "stdout",
     "output_type": "stream",
     "text": [
      "   ID                                            AD_URLS PROPERTY_TYPE  \\\n0 NaN  https://www.bienici.com/annonce/orpi-1-099934E...     APARTMENT   \n1 NaN  https://www.bienici.com/annonce/citya-immobili...     APARTMENT   \n\n   DEPT_CODE  ZIP_CODE                     CITY  INSEE_CODE   LATITUDE  \\\n0          1      1750  Saint-Laurent-sur-Saône        1370  46.304441   \n1          1      1280          Prévessin-Moëns        1313  46.252448   \n\n   LONGITUDE  BLUR_RADIUS          ...           GARDEN  STANDING NEW_BUILD  \\\n0   4.841141           50          ...              NaN       NaN     False   \n1   6.076428          250          ...              NaN       NaN     False   \n\n   SMALL_BUILDING  CORNER_BUILDING  PUBLICATION_START_DATE  DEALER_NAME  \\\n0             NaN              NaN                     NaN          NaN   \n1             NaN              NaN                     NaN          NaN   \n\n   DEALER_TYPE  REFERENCE_NUMBER  ENERGY_CLASSIFICATION  \n0          NaN      099934E0KUR9                    NaN  \n1          NaN        TAPP101647                     NS  \n\n[2 rows x 39 columns]\nEmpty DataFrame\nColumns: []\nIndex: []\n"
     ]
    }
   ],
   "source": [
    "dataHelper.start()\n",
    "print(dataHelper.readData())\n",
    "print(dataHelper.getDataFrame())"
   ]
  },
  {
   "cell_type": "code",
   "execution_count": 10,
   "metadata": {},
   "outputs": [
    {
     "name": "stdout",
     "output_type": "stream",
     "text": [
      "ok\n"
     ]
    }
   ],
   "source": [
    "print('ok')"
   ]
  },
  {
   "cell_type": "code",
   "execution_count": null,
   "metadata": {},
   "outputs": [],
   "source": []
  },
  {
   "cell_type": "code",
   "execution_count": null,
   "metadata": {},
   "outputs": [],
   "source": []
  }
 ],
 "metadata": {
  "kernelspec": {
   "display_name": "Python 2",
   "language": "python",
   "name": "python2"
  },
  "language_info": {
   "codemirror_mode": {
    "name": "ipython",
    "version": 2
   },
   "file_extension": ".py",
   "mimetype": "text/x-python",
   "name": "python",
   "nbconvert_exporter": "python",
   "pygments_lexer": "ipython2",
   "version": "2.7.6"
  }
 },
 "nbformat": 4,
 "nbformat_minor": 0
}
