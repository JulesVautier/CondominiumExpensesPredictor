{
 "cells": [
  {
   "cell_type": "code",
   "execution_count": 1,
   "metadata": {
    "collapsed": true
   },
   "outputs": [],
   "source": [
    "# Import all libraries needed for the tutorial\n",
    "\n",
    "# General syntax to import specific functions in a library: \n",
    "##from (library) import (specific library function)\n",
    "from pandas import DataFrame, read_csv\n",
    "\n",
    "# General syntax to import a library but no functions: \n",
    "##import (library) as (give the library a nickname/alias)\n",
    "import matplotlib.pyplot as plt\n",
    "import pandas as pd #this is how I usually import pandas\n",
    "import sys #only needed to determine Python version number\n",
    "import matplotlib #only needed to determine Matplotlib version number\n",
    "\n",
    "# Enable inline plotting\n",
    "%matplotlib inline"
   ]
  },
  {
   "cell_type": "code",
   "execution_count": 2,
   "metadata": {},
   "outputs": [
    {
     "name": "stdout",
     "output_type": "stream",
     "text": [
      "Python version 3.7.1 (v3.7.1:260ec2c36a, Oct 20 2018, 14:57:15) [MSC v.1915 64 bit (AMD64)]\nPandas version 0.23.4\nMatplotlib version 3.0.2\n"
     ]
    }
   ],
   "source": [
    "print('Python version ' + sys.version)\n",
    "print('Pandas version ' + pd.__version__)\n",
    "print('Matplotlib version ' + matplotlib.__version__)"
   ]
  },
  {
   "cell_type": "code",
   "execution_count": 9,
   "metadata": {},
   "outputs": [],
   "source": [
    "Location = 'ressources/dataset_annonces.csv'\n",
    "df = pd.read_csv(Location, nrows=1000)"
   ]
  },
  {
   "cell_type": "code",
   "execution_count": 10,
   "metadata": {
    "collapsed": true
   },
   "outputs": [
    {
     "name": "stdout",
     "output_type": "stream",
     "text": [
      "shape: (1000, 39)\ncolumns Index(['ID', 'AD_URLS', 'PROPERTY_TYPE', 'DEPT_CODE', 'ZIP_CODE', 'CITY',\n       'INSEE_CODE', 'LATITUDE', 'LONGITUDE', 'BLUR_RADIUS', 'MARKETING_TYPE',\n       'PRICE', 'DESCRIPTION', 'SURFACE', 'CONDOMINIUM_EXPENSES', 'CARETAKER',\n       'HEATING_MODE', 'WATER_HEATING_MODE', 'ELEVATOR', 'FLOOR',\n       'FLOOR_COUNT', 'LOT_COUNT', 'CONSTRUCTION_YEAR', 'BUILDING_TYPE',\n       'PARKING', 'PARKING_COUNT', 'TERRACE', 'TERRACE_SURFACE',\n       'SWIMMING_POOL', 'GARDEN', 'STANDING', 'NEW_BUILD', 'SMALL_BUILDING',\n       'CORNER_BUILDING', 'PUBLICATION_START_DATE', 'DEALER_NAME',\n       'DEALER_TYPE', 'REFERENCE_NUMBER', 'ENERGY_CLASSIFICATION'],\n      dtype='object')\n"
     ]
    }
   ],
   "source": [
    "print('shape:', df.shape)\n",
    "print('columns', df.columns)"
   ]
  },
  {
   "cell_type": "code",
   "execution_count": 11,
   "metadata": {},
   "outputs": [
    {
     "name": "stdout",
     "output_type": "stream",
     "text": [
      "\nFeature matrix:\n    ID                                            AD_URLS PROPERTY_TYPE  \\\n0 NaN  https://www.bienici.com/annonce/orpi-1-099934E...     APARTMENT   \n1 NaN  https://www.bienici.com/annonce/citya-immobili...     APARTMENT   \n2 NaN  https://www.bienici.com/annonce/citya-immobili...     APARTMENT   \n3 NaN        https://www.bienici.com/annonce/snpi-779296     APARTMENT   \n4 NaN  https://www.bienici.com/annonce/ag010173-54016881     APARTMENT   \n\n   DEPT_CODE  ZIP_CODE                     CITY  INSEE_CODE   LATITUDE  \\\n0          1      1750  Saint-Laurent-sur-Saône        1370  46.304441   \n1          1      1280          Prévessin-Moëns        1313  46.252448   \n2          1      1280          Prévessin-Moëns        1313  46.250400   \n3          1      1190             Pont-de-Vaux        1305  46.431690   \n4          1      1460        Montréal-la-Cluse        1265  46.186647   \n\n   LONGITUDE  BLUR_RADIUS        ...        SWIMMING_POOL  GARDEN STANDING  \\\n0   4.841141         50.0        ...                  NaN     NaN      NaN   \n1   6.076428        250.0        ...                  NaN     NaN      NaN   \n2   6.074747        250.0        ...                  NaN     NaN      NaN   \n3        NaN          NaN        ...                  NaN     NaN      NaN   \n4        NaN          NaN        ...                  NaN     NaN      NaN   \n\n   NEW_BUILD  SMALL_BUILDING CORNER_BUILDING PUBLICATION_START_DATE  \\\n0      False             NaN             NaN                    NaN   \n1      False             NaN             NaN                    NaN   \n2      False             NaN             NaN                    NaN   \n3      False             NaN             NaN                    NaN   \n4      False             NaN             NaN                    NaN   \n\n   DEALER_NAME DEALER_TYPE  REFERENCE_NUMBER  \n0          NaN         NaN      099934E0KUR9  \n1          NaN         NaN        TAPP101647  \n2          NaN         NaN        TAPP101659  \n3          NaN         NaN            2474JG  \n4          NaN         NaN      00092_14GF17  \n\n[5 rows x 38 columns]\n\nResponse vector:\n 0    NaN\n1     NS\n2     NS\n3    NaN\n4      G\nName: ENERGY_CLASSIFICATION, dtype: object\n"
     ]
    }
   ],
   "source": [
    "X = df[df.columns[:-1]] \n",
    "y = df[df.columns[-1]]\n",
    "print(\"\\nFeature matrix:\\n\", X.head()) \n",
    "print(\"\\nResponse vector:\\n\", y.head())"
   ]
  },
  {
   "cell_type": "code",
   "execution_count": 12,
   "metadata": {},
   "outputs": [
    {
     "name": "stdout",
     "output_type": "stream",
     "text": [
      "(600, 38)\n(400, 38)\n(600,)\n(400,)\n"
     ]
    }
   ],
   "source": [
    "from sklearn.model_selection import train_test_split \n",
    "X_train, X_test, y_train, y_test = train_test_split(X, y, test_size=0.4, random_state=1) \n",
    "  \n",
    "# printing the shapes of the new X objects \n",
    "print(X_train.shape) \n",
    "print(X_test.shape) \n",
    "  \n",
    "# printing the shapes of the new y objects \n",
    "print(y_train.shape) \n",
    "print(y_test.shape)\n"
   ]
  },
  {
   "cell_type": "code",
   "execution_count": null,
   "metadata": {},
   "outputs": [],
   "source": []
  }
 ],
 "metadata": {
  "kernelspec": {
   "display_name": "Python 2",
   "language": "python",
   "name": "python2"
  },
  "language_info": {
   "codemirror_mode": {
    "name": "ipython",
    "version": 2
   },
   "file_extension": ".py",
   "mimetype": "text/x-python",
   "name": "python",
   "nbconvert_exporter": "python",
   "pygments_lexer": "ipython2",
   "version": "2.7.6"
  }
 },
 "nbformat": 4,
 "nbformat_minor": 0
}
