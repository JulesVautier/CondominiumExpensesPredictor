{
 "cells": [
  {
   "cell_type": "code",
   "execution_count": 79,
   "metadata": {
    "collapsed": true
   },
   "outputs": [],
   "source": [
    "# Import all libraries needed for the tutorial\n",
    "\n",
    "# General syntax to import specific functions in a library: \n",
    "##from (library) import (specific library function)\n",
    "from pandas import DataFrame, read_csv\n",
    "\n",
    "# General syntax to import a library but no functions: \n",
    "##import (library) as (give the library a nickname/alias)\n",
    "import matplotlib.pyplot as plt\n",
    "import pandas as pd #this is how I usually import pandas\n",
    "import sys #only needed to determine Python version number\n",
    "import matplotlib #only needed to determine Matplotlib version number\n",
    "\n",
    "# Enable inline plotting\n",
    "%matplotlib inline"
   ]
  },
  {
   "cell_type": "code",
   "execution_count": 80,
   "metadata": {},
   "outputs": [
    {
     "name": "stdout",
     "output_type": "stream",
     "text": [
      "Python version 3.7.1 (v3.7.1:260ec2c36a, Oct 20 2018, 14:57:15) [MSC v.1915 64 bit (AMD64)]\nPandas version 0.23.4\nMatplotlib version 3.0.2\n"
     ]
    }
   ],
   "source": [
    "print('Python version ' + sys.version)\n",
    "print('Pandas version ' + pd.__version__)\n",
    "print('Matplotlib version ' + matplotlib.__version__)"
   ]
  },
  {
   "cell_type": "code",
   "execution_count": 81,
   "metadata": {},
   "outputs": [],
   "source": [
    "Location = 'ressources/dataset_annonces.csv'\n",
    "df = pd.read_csv(Location, nrows=1)"
   ]
  },
  {
   "cell_type": "code",
   "execution_count": 82,
   "metadata": {
    "collapsed": true
   },
   "outputs": [
    {
     "name": "stdout",
     "output_type": "stream",
     "text": [
      "['ID', 'LATITUDE', 'LONGITUDE', 'CONDOMINIUM_EXPENSES', 'HEATING_MODE', 'WATER_HEATING_MODE', 'ELEVATOR', 'LOT_COUNT', 'CONSTRUCTION_YEAR', 'BUILDING_TYPE', 'PARKING', 'PARKING_COUNT', 'TERRACE', 'TERRACE_SURFACE', 'SWIMMING_POOL', 'GARDEN', 'STANDING', 'SMALL_BUILDING', 'CORNER_BUILDING', 'PUBLICATION_START_DATE', 'DEALER_NAME', 'DEALER_TYPE', 'ENERGY_CLASSIFICATION']\n"
     ]
    }
   ],
   "source": [
    "#print('shape:', df.shape)\n",
    "#print('columns', df.columns)\n",
    "#print('dtype', df.dtypes)\n",
    "columnsNoStr = []\n",
    "i = 0\n",
    "for dtype in df.dtypes:\n",
    "    if (dtype == 'float64' and df.columns[i] != 'CARETAKER'):\n",
    "        columnsNoStr.append(df.columns[i])\n",
    "    i = i + 1\n",
    "print(columnsNoStr)\n"
   ]
  },
  {
   "cell_type": "code",
   "execution_count": 83,
   "metadata": {},
   "outputs": [
    {
     "name": "stdout",
     "output_type": "stream",
     "text": [
      "shape: (5, 23)\nshape: 0    0.0\n1    1.0\n2    2.0\n3    3.0\n4    4.0\nName: ID, dtype: float64\n"
     ]
    }
   ],
   "source": [
    "df = pd.read_csv(Location, nrows=5, usecols=columnsNoStr)\n",
    "print('shape:', df.shape)\n",
    "for i, trial in df.iterrows():\n",
    "    df.loc[i, \"ID\"] = i\n",
    "print('shape:', df['ID'])\n",
    "#print('columns', df.columns)\n",
    "#print('dtype', df.dtypes)"
   ]
  },
  {
   "cell_type": "code",
   "execution_count": 84,
   "metadata": {
    "collapsed": true
   },
   "outputs": [
    {
     "name": "stdout",
     "output_type": "stream",
     "text": [
      "\nFeature matrix:\n     ID   LATITUDE  LONGITUDE  CONDOMINIUM_EXPENSES HEATING_MODE  \\\n0  0.0  46.304441   4.841141                   NaN          NaN   \n1  1.0  46.252448   6.076428                   NaN          NaN   \n2  2.0  46.250400   6.074747                   NaN          NaN   \n3  3.0  46.431690        NaN                   NaN          NaN   \n4  4.0  46.186647        NaN                   NaN   INDIVIDUAL   \n\n   WATER_HEATING_MODE  ELEVATOR  LOT_COUNT  CONSTRUCTION_YEAR  BUILDING_TYPE  \\\n0                 NaN       NaN        NaN                NaN            NaN   \n1                 NaN       NaN        NaN                NaN            NaN   \n2                 NaN       NaN        NaN                NaN            NaN   \n3                 NaN       NaN        NaN                NaN            NaN   \n4                 NaN       NaN        8.0                NaN            NaN   \n\n      ...       TERRACE  TERRACE_SURFACE  SWIMMING_POOL  GARDEN  STANDING  \\\n0     ...           NaN              NaN            NaN     NaN       NaN   \n1     ...           NaN              NaN            NaN     NaN       NaN   \n2     ...           NaN              NaN            NaN     NaN       NaN   \n3     ...           NaN              NaN            NaN     NaN       NaN   \n4     ...           NaN              NaN            NaN     NaN       NaN   \n\n   SMALL_BUILDING  CORNER_BUILDING  PUBLICATION_START_DATE  DEALER_NAME  \\\n0             NaN              NaN                     NaN          NaN   \n1             NaN              NaN                     NaN          NaN   \n2             NaN              NaN                     NaN          NaN   \n3             NaN              NaN                     NaN          NaN   \n4             NaN              NaN                     NaN          NaN   \n\n   DEALER_TYPE  \n0          NaN  \n1          NaN  \n2          NaN  \n3          NaN  \n4          NaN  \n\n[5 rows x 22 columns]\n\nResponse vector:\n 0    0.0\n1    1.0\n2    2.0\n3    3.0\n4    4.0\nName: ID, dtype: float64\n"
     ]
    }
   ],
   "source": [
    "X = df[df.columns[:-1]] \n",
    "y = df[df.columns[0]]\n",
    "print(\"\\nFeature matrix:\\n\", X.head()) \n",
    "print(\"\\nResponse vector:\\n\", y.head())"
   ]
  },
  {
   "cell_type": "code",
   "execution_count": 85,
   "metadata": {},
   "outputs": [
    {
     "name": "stdout",
     "output_type": "stream",
     "text": [
      "(3, 22)\n(2, 22)\n(3,)\n(2,)\n    ID   LATITUDE  LONGITUDE  CONDOMINIUM_EXPENSES HEATING_MODE  \\\n4  4.0  46.186647        NaN                   NaN   INDIVIDUAL   \n0  0.0  46.304441   4.841141                   NaN          NaN   \n3  3.0  46.431690        NaN                   NaN          NaN   \n\n   WATER_HEATING_MODE  ELEVATOR  LOT_COUNT  CONSTRUCTION_YEAR  BUILDING_TYPE  \\\n4                 NaN       NaN        8.0                NaN            NaN   \n0                 NaN       NaN        NaN                NaN            NaN   \n3                 NaN       NaN        NaN                NaN            NaN   \n\n      ...       TERRACE  TERRACE_SURFACE  SWIMMING_POOL  GARDEN  STANDING  \\\n4     ...           NaN              NaN            NaN     NaN       NaN   \n0     ...           NaN              NaN            NaN     NaN       NaN   \n3     ...           NaN              NaN            NaN     NaN       NaN   \n\n   SMALL_BUILDING  CORNER_BUILDING  PUBLICATION_START_DATE  DEALER_NAME  \\\n4             NaN              NaN                     NaN          NaN   \n0             NaN              NaN                     NaN          NaN   \n3             NaN              NaN                     NaN          NaN   \n\n   DEALER_TYPE  \n4          NaN  \n0          NaN  \n3          NaN  \n\n[3 rows x 22 columns]\n<class 'pandas.core.series.Series'>\n"
     ]
    }
   ],
   "source": [
    "from sklearn.model_selection import train_test_split \n",
    "X_train, X_test, y_train, y_test = train_test_split(X, y, test_size=0.4, random_state=1) \n",
    "  \n",
    "# printing the shapes of the new X objects \n",
    "print(X_train.shape) \n",
    "print(X_test.shape) \n",
    "  \n",
    "# printing the shapes of the new y objects \n",
    "print(y_train.shape) \n",
    "print(y_test.shape)\n",
    "print(X_train)\n",
    "print(type(y_train))"
   ]
  },
  {
   "cell_type": "code",
   "execution_count": 86,
   "metadata": {
    "collapsed": false
   },
   "outputs": [
    {
     "name": "stderr",
     "output_type": "stream",
     "text": [
      "C:\\Users\\jules\\Work\\CondominiumExpensesPredictor\\env\\lib\\site-packages\\sklearn\\utils\\deprecation.py:58: DeprecationWarning: Class Imputer is deprecated; Imputer was deprecated in version 0.20 and will be removed in 0.22. Import impute.SimpleImputer from sklearn instead.\n  warnings.warn(msg, category=DeprecationWarning)\n"
     ]
    },
    {
     "ename": "ValueError",
     "evalue": "could not convert string to float: 'INDIVIDUAL'",
     "traceback": [
      "\u001b[0;31m---------------------------------------------------------------------------\u001b[0m",
      "\u001b[0;31mValueError\u001b[0m                                Traceback (most recent call last)",
      "\u001b[0;32m<ipython-input-86-9586b410c0cd>\u001b[0m in \u001b[0;36m<module>\u001b[0;34m()\u001b[0m\n\u001b[1;32m     16\u001b[0m \u001b[0;31m# y_test_imp = imp.transform(y_test)\u001b[0m\u001b[0;34m\u001b[0m\u001b[0;34m\u001b[0m\u001b[0;34m\u001b[0m\u001b[0m\n\u001b[1;32m     17\u001b[0m \u001b[0;34m\u001b[0m\u001b[0m\n\u001b[0;32m---> 18\u001b[0;31m \u001b[0mimp\u001b[0m \u001b[0;34m=\u001b[0m \u001b[0mimp\u001b[0m\u001b[0;34m.\u001b[0m\u001b[0mfit\u001b[0m\u001b[0;34m(\u001b[0m\u001b[0mX_train\u001b[0m\u001b[0;34m)\u001b[0m\u001b[0;34m\u001b[0m\u001b[0;34m\u001b[0m\u001b[0m\n\u001b[0m\u001b[1;32m     19\u001b[0m \u001b[0mX_train\u001b[0m \u001b[0;34m=\u001b[0m \u001b[0mimp\u001b[0m\u001b[0;34m.\u001b[0m\u001b[0mtransform\u001b[0m\u001b[0;34m(\u001b[0m\u001b[0mX_train\u001b[0m\u001b[0;34m)\u001b[0m\u001b[0;34m\u001b[0m\u001b[0;34m\u001b[0m\u001b[0m\n\u001b[1;32m     20\u001b[0m \u001b[0mimp\u001b[0m \u001b[0;34m=\u001b[0m \u001b[0mimp\u001b[0m\u001b[0;34m.\u001b[0m\u001b[0mfit\u001b[0m\u001b[0;34m(\u001b[0m\u001b[0mX_test\u001b[0m\u001b[0;34m)\u001b[0m\u001b[0;34m\u001b[0m\u001b[0;34m\u001b[0m\u001b[0m\n",
      "\u001b[0;32mC:\\Users\\jules\\Work\\CondominiumExpensesPredictor\\env\\lib\\site-packages\\sklearn\\preprocessing\\imputation.py\u001b[0m in \u001b[0;36mfit\u001b[0;34m(self, X, y)\u001b[0m\n\u001b[1;32m    156\u001b[0m         \u001b[0;32mif\u001b[0m \u001b[0mself\u001b[0m\u001b[0;34m.\u001b[0m\u001b[0maxis\u001b[0m \u001b[0;34m==\u001b[0m \u001b[0;36m0\u001b[0m\u001b[0;34m:\u001b[0m\u001b[0;34m\u001b[0m\u001b[0;34m\u001b[0m\u001b[0m\n\u001b[1;32m    157\u001b[0m             X = check_array(X, accept_sparse='csc', dtype=np.float64,\n\u001b[0;32m--> 158\u001b[0;31m                             force_all_finite=False)\n\u001b[0m\u001b[1;32m    159\u001b[0m \u001b[0;34m\u001b[0m\u001b[0m\n\u001b[1;32m    160\u001b[0m             \u001b[0;32mif\u001b[0m \u001b[0msparse\u001b[0m\u001b[0;34m.\u001b[0m\u001b[0missparse\u001b[0m\u001b[0;34m(\u001b[0m\u001b[0mX\u001b[0m\u001b[0;34m)\u001b[0m\u001b[0;34m:\u001b[0m\u001b[0;34m\u001b[0m\u001b[0;34m\u001b[0m\u001b[0m\n",
      "\u001b[0;32mC:\\Users\\jules\\Work\\CondominiumExpensesPredictor\\env\\lib\\site-packages\\sklearn\\utils\\validation.py\u001b[0m in \u001b[0;36mcheck_array\u001b[0;34m(array, accept_sparse, accept_large_sparse, dtype, order, copy, force_all_finite, ensure_2d, allow_nd, ensure_min_samples, ensure_min_features, warn_on_dtype, estimator)\u001b[0m\n\u001b[1;32m    520\u001b[0m             \u001b[0;32mtry\u001b[0m\u001b[0;34m:\u001b[0m\u001b[0;34m\u001b[0m\u001b[0;34m\u001b[0m\u001b[0m\n\u001b[1;32m    521\u001b[0m                 \u001b[0mwarnings\u001b[0m\u001b[0;34m.\u001b[0m\u001b[0msimplefilter\u001b[0m\u001b[0;34m(\u001b[0m\u001b[0;34m'error'\u001b[0m\u001b[0;34m,\u001b[0m \u001b[0mComplexWarning\u001b[0m\u001b[0;34m)\u001b[0m\u001b[0;34m\u001b[0m\u001b[0;34m\u001b[0m\u001b[0m\n\u001b[0;32m--> 522\u001b[0;31m                 \u001b[0marray\u001b[0m \u001b[0;34m=\u001b[0m \u001b[0mnp\u001b[0m\u001b[0;34m.\u001b[0m\u001b[0masarray\u001b[0m\u001b[0;34m(\u001b[0m\u001b[0marray\u001b[0m\u001b[0;34m,\u001b[0m \u001b[0mdtype\u001b[0m\u001b[0;34m=\u001b[0m\u001b[0mdtype\u001b[0m\u001b[0;34m,\u001b[0m \u001b[0morder\u001b[0m\u001b[0;34m=\u001b[0m\u001b[0morder\u001b[0m\u001b[0;34m)\u001b[0m\u001b[0;34m\u001b[0m\u001b[0;34m\u001b[0m\u001b[0m\n\u001b[0m\u001b[1;32m    523\u001b[0m             \u001b[0;32mexcept\u001b[0m \u001b[0mComplexWarning\u001b[0m\u001b[0;34m:\u001b[0m\u001b[0;34m\u001b[0m\u001b[0;34m\u001b[0m\u001b[0m\n\u001b[1;32m    524\u001b[0m                 raise ValueError(\"Complex data not supported\\n\"\n",
      "\u001b[0;32mC:\\Users\\jules\\Work\\CondominiumExpensesPredictor\\env\\lib\\site-packages\\numpy\\core\\numeric.py\u001b[0m in \u001b[0;36masarray\u001b[0;34m(a, dtype, order)\u001b[0m\n\u001b[1;32m    499\u001b[0m \u001b[0;34m\u001b[0m\u001b[0m\n\u001b[1;32m    500\u001b[0m     \"\"\"\n\u001b[0;32m--> 501\u001b[0;31m     \u001b[0;32mreturn\u001b[0m \u001b[0marray\u001b[0m\u001b[0;34m(\u001b[0m\u001b[0ma\u001b[0m\u001b[0;34m,\u001b[0m \u001b[0mdtype\u001b[0m\u001b[0;34m,\u001b[0m \u001b[0mcopy\u001b[0m\u001b[0;34m=\u001b[0m\u001b[0;32mFalse\u001b[0m\u001b[0;34m,\u001b[0m \u001b[0morder\u001b[0m\u001b[0;34m=\u001b[0m\u001b[0morder\u001b[0m\u001b[0;34m)\u001b[0m\u001b[0;34m\u001b[0m\u001b[0;34m\u001b[0m\u001b[0m\n\u001b[0m\u001b[1;32m    502\u001b[0m \u001b[0;34m\u001b[0m\u001b[0m\n\u001b[1;32m    503\u001b[0m \u001b[0;34m\u001b[0m\u001b[0m\n",
      "\u001b[0;31mValueError\u001b[0m: could not convert string to float: 'INDIVIDUAL'"
     ],
     "output_type": "error"
    }
   ],
   "source": [
    "# training the model on training set \n",
    "from sklearn.neighbors import KNeighborsClassifier \n",
    "from sklearn.preprocessing import Imputer\n",
    "\n",
    "\n",
    "# Create our imputer to replace missing values with the mean e.g.\n",
    "imp = Imputer(missing_values='NaN', strategy='mean', axis=0)\n",
    "\n",
    "# imp = imp.fit(X_train)\n",
    "# X_train_imp = imp.transform(X_train)\n",
    "# imp = imp.fit(y_train)\n",
    "# y_train_imp = imp.transform(y_train)\n",
    "# imp = imp.fit(X_test)\n",
    "# X_test_imp = imp.transform(X_test)\n",
    "# imp = imp.fit(y_test)\n",
    "# y_test_imp = imp.transform(y_test)\n",
    "\n",
    "imp = imp.fit(X_train)\n",
    "X_train = imp.transform(X_train)\n",
    "imp = imp.fit(X_test)\n",
    "X_test = imp.transform(X_test)\n",
    "\n",
    "knn = KNeighborsClassifier(n_neighbors=3) \n",
    "knn.fit(X_train, y_train) \n",
    "print(X_train, y_train)\n",
    "print(X_train.shape, y_train.shape)\n",
    "\n",
    "# # making predictions on the testing set \n",
    "y_pred = knn.predict(X_test) \n",
    "# \n",
    "# # comparing actual response values (y_test) with predicted response values (y_pred) \n",
    "# from sklearn import metrics \n",
    "# print(\"kNN model accuracy:\", metrics.accuracy_score(y_test, y_pred)) \n",
    "#   \n",
    "# # making prediction for out of sample data \n",
    "# sample = [[3, 5, 4, 2], [2, 3, 5, 4]] \n",
    "# preds = knn.predict(sample) \n",
    "# pred_species = [iris.target_names[p] for p in preds] \n",
    "# print(\"Predictions:\", pred_species) \n",
    "#   \n",
    "# # saving the model \n",
    "# from sklearn.externals import joblib \n",
    "# joblib.dump(knn, 'iris_knn.pkl')\n",
    "# \n"
   ]
  },
  {
   "cell_type": "code",
   "execution_count": 87,
   "metadata": {},
   "outputs": [],
   "source": []
  },
  {
   "cell_type": "code",
   "execution_count": 67,
   "metadata": {},
   "outputs": [],
   "source": []
  },
  {
   "cell_type": "code",
   "execution_count": null,
   "metadata": {},
   "outputs": [],
   "source": []
  }
 ],
 "metadata": {
  "kernelspec": {
   "display_name": "Python 2",
   "language": "python",
   "name": "python2"
  },
  "language_info": {
   "codemirror_mode": {
    "name": "ipython",
    "version": 2
   },
   "file_extension": ".py",
   "mimetype": "text/x-python",
   "name": "python",
   "nbconvert_exporter": "python",
   "pygments_lexer": "ipython2",
   "version": "2.7.6"
  }
 },
 "nbformat": 4,
 "nbformat_minor": 0
}
